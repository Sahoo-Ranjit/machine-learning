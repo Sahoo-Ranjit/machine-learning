{
 "cells": [
  {
   "cell_type": "code",
   "execution_count": 1,
   "id": "b3b1b20c",
   "metadata": {},
   "outputs": [],
   "source": [
    "import numpy as np"
   ]
  },
  {
   "cell_type": "code",
   "execution_count": 2,
   "id": "3da1d660",
   "metadata": {},
   "outputs": [],
   "source": [
    "list_marks = [45,43,55,65,76,85,79,64,68,45,43,34,87,90,50,67,85,1100,1234]"
   ]
  },
  {
   "cell_type": "code",
   "execution_count": 3,
   "id": "27ea1626",
   "metadata": {},
   "outputs": [],
   "source": [
    "q1 = np.percentile(list_marks,[25])"
   ]
  },
  {
   "cell_type": "code",
   "execution_count": 5,
   "id": "517c6e4c",
   "metadata": {},
   "outputs": [
    {
     "name": "stdout",
     "output_type": "stream",
     "text": [
      "[47.5]\n"
     ]
    }
   ],
   "source": [
    "print(q1)"
   ]
  },
  {
   "cell_type": "code",
   "execution_count": 7,
   "id": "e2d6f2ad",
   "metadata": {},
   "outputs": [],
   "source": [
    "minimum,q1,q2,q3,maximum = np.quantile(list_marks,[0,0.25,0.50,0.75,1])"
   ]
  },
  {
   "cell_type": "code",
   "execution_count": 9,
   "id": "0fff1097",
   "metadata": {},
   "outputs": [
    {
     "name": "stdout",
     "output_type": "stream",
     "text": [
      "85.0\n"
     ]
    }
   ],
   "source": [
    "print(q3)"
   ]
  },
  {
   "cell_type": "code",
   "execution_count": 13,
   "id": "68c19ce2",
   "metadata": {},
   "outputs": [],
   "source": [
    "iqr = q3-q1\n",
    "lower_fence = q1-1.5*iqr\n",
    "higher_fence = q3+1.5*iqr"
   ]
  },
  {
   "cell_type": "code",
   "execution_count": 15,
   "id": "41019595",
   "metadata": {},
   "outputs": [
    {
     "data": {
      "text/plain": [
       "(-8.75, 141.25)"
      ]
     },
     "execution_count": 15,
     "metadata": {},
     "output_type": "execute_result"
    }
   ],
   "source": [
    "lower_fence,higher_fence"
   ]
  },
  {
   "cell_type": "code",
   "execution_count": 16,
   "id": "895e5041",
   "metadata": {},
   "outputs": [
    {
     "name": "stdout",
     "output_type": "stream",
     "text": [
      "not an outlier\n",
      "not an outlier\n",
      "not an outlier\n",
      "not an outlier\n",
      "not an outlier\n",
      "not an outlier\n",
      "not an outlier\n",
      "not an outlier\n",
      "not an outlier\n",
      "not an outlier\n",
      "not an outlier\n",
      "not an outlier\n",
      "not an outlier\n",
      "not an outlier\n",
      "not an outlier\n",
      "not an outlier\n",
      "not an outlier\n"
     ]
    }
   ],
   "source": [
    "outliers=[]\n",
    "for i in list_marks:\n",
    "    if i > -8.75 and i<=141.25:\n",
    "        print(\"not an outlier\")\n",
    "    else:\n",
    "        outliers.append(i)\n",
    "        "
   ]
  },
  {
   "cell_type": "code",
   "execution_count": 17,
   "id": "0efa759a",
   "metadata": {},
   "outputs": [
    {
     "data": {
      "text/plain": [
       "[1100, 1234]"
      ]
     },
     "execution_count": 17,
     "metadata": {},
     "output_type": "execute_result"
    }
   ],
   "source": [
    "outliers"
   ]
  },
  {
   "cell_type": "code",
   "execution_count": 18,
   "id": "295c921e",
   "metadata": {},
   "outputs": [],
   "source": [
    "import seaborn as sns"
   ]
  },
  {
   "cell_type": "code",
   "execution_count": 19,
   "id": "be1dea17",
   "metadata": {},
   "outputs": [
    {
     "name": "stderr",
     "output_type": "stream",
     "text": [
      "D:\\an\\lib\\site-packages\\seaborn\\_decorators.py:36: FutureWarning: Pass the following variable as a keyword arg: x. From version 0.12, the only valid positional argument will be `data`, and passing other arguments without an explicit keyword will result in an error or misinterpretation.\n",
      "  warnings.warn(\n"
     ]
    },
    {
     "data": {
      "text/plain": [
       "<AxesSubplot:>"
      ]
     },
     "execution_count": 19,
     "metadata": {},
     "output_type": "execute_result"
    },
    {
     "data": {
      "image/png": "[encoded data removed]",
      "text/plain": [
       "<Figure size 640x480 with 1 Axes>"
      ]
     },
     "metadata": {},
     "output_type": "display_data"
    }
   ],
   "source": [
    "sns.boxplot(list_marks)"
   ]
  },
  {
   "cell_type": "code",
   "execution_count": null,
   "id": "6cbb9bf4",
   "metadata": {},
   "outputs": [],
   "source": []
  }
 ],
 "metadata": {
  "kernelspec": {
   "display_name": "Python 3 (ipykernel)",
   "language": "python",
   "name": "python3"
  },
  "language_info": {
   "codemirror_mode": {
    "name": "ipython",
    "version": 3
   },
   "file_extension": ".py",
   "mimetype": "text/x-python",
   "name": "python",
   "nbconvert_exporter": "python",
   "pygments_lexer": "ipython3",
   "version": "3.9.13"
  }
 },
 "nbformat": 4,
 "nbformat_minor": 5
}
